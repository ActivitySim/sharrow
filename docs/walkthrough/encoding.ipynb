{
 "cells": [
  {
   "cell_type": "markdown",
   "id": "7998b969",
   "metadata": {},
   "source": [
    "# Data Encoding\n",
    "\n",
    "This notebook provides a short walkthrough of some of the data encoding features of the `sharrow` library."
   ]
  },
  {
   "cell_type": "code",
   "execution_count": null,
   "id": "f17c8818",
   "metadata": {
    "tags": [
     "remove_cell"
    ]
   },
   "outputs": [],
   "source": [
    "# HIDDEN\n",
    "import warnings\n",
    "warnings.filterwarnings(\"ignore\", category=DeprecationWarning) "
   ]
  },
  {
   "cell_type": "code",
   "execution_count": null,
   "id": "d4e7246c",
   "metadata": {},
   "outputs": [],
   "source": [
    "import numpy as np\n",
    "import pandas as pd\n",
    "import xarray as xr\n",
    "from io import StringIO\n",
    "\n",
    "import sharrow as sh\n",
    "sh.__version__"
   ]
  },
  {
   "cell_type": "code",
   "execution_count": null,
   "id": "1f409525",
   "metadata": {
    "tags": [
     "remove-cell"
    ]
   },
   "outputs": [],
   "source": [
    "# check versions\n",
    "import packaging\n",
    "assert packaging.version.parse(xr.__version__) >= packaging.version.parse(\"0.20.2\")"
   ]
  },
  {
   "cell_type": "markdown",
   "id": "6085397c",
   "metadata": {},
   "source": [
    "## Example Data\n",
    "\n",
    "We'll begin by importing some example data to work with.  We'll be using \n",
    "some test data taken from the MTC example in the ActivitySim project. For\n",
    "this data encoding walkthrough, we'll focus on the\n",
    "skims containing transportation level of service information for travel around\n",
    "a tiny slice of San Francisco."
   ]
  },
  {
   "cell_type": "markdown",
   "id": "077d2d46",
   "metadata": {},
   "source": [
    "We'll load them as a multi-dimensional `xarray.Dataset` — or, more exactly, a \n",
    "`sharrow.Dataset`, which is a subclass from the xarray version that adds some \n",
    "useful features, including compatability with automatic tools for recoding data."
   ]
  },
  {
   "cell_type": "code",
   "execution_count": null,
   "id": "b087c457",
   "metadata": {},
   "outputs": [],
   "source": [
    "skims = sh.example_data.get_skims()\n",
    "skims"
   ]
  },
  {
   "cell_type": "markdown",
   "id": "6dc7148c",
   "metadata": {},
   "source": [
    "Because sharrow uses the `xarray.Dataset` format to work with data, individual \n",
    "variables in each Dataset can be encoded in different data types.\n",
    "For example, automobile travel times can be stored with \n",
    "high(er) precision floating point numbers, while transit \n",
    "fares, which vary less and have a narrower range, can be \n",
    "stored with lower precision.  This allows a user to choose \n",
    "the most efficient encoding for each variable, if desired. "
   ]
  },
  {
   "cell_type": "markdown",
   "id": "f17a0eef",
   "metadata": {},
   "source": [
    "## Fixed Point Encoding\n",
    "\n",
    "Very often, data (especially skim matrixes like here) can be expressed adequately \n",
    "with far less precicion than a standard 32-bit floating point representation allows.\n",
    "In these cases, it may be beneficial to store this \n",
    "data with \"fixed point\" encoding, which is also \n",
    "sometimes called scaled integers.\n",
    "\n",
    "Instead of storing values as 32-bit floating point values, \n",
    "they could be multiplied by a scale factor (e.g., 100) \n",
    "and then converted to 16-bit integers. This uses half the\n",
    "RAM and can still express any value (to two decimal point \n",
    "precision) up to positive or negative 327.68.  If the lowest \n",
    "values in that range are never needed, it can also be shifted,\n",
    "moving both the bottom and top limits by a fixed amount. Then, \n",
    "for a particular scale $\\mu$ and shift $\\xi$ (stored in metadata),\n",
    "from any array element $i$ the implied (original) value $x$ \n",
    "can quickly be recovered by evaluating $(i / \\mu) - \\xi$.\n",
    "\n",
    "Sharrow includes a pair of functions to encode and decode arrays in\n",
    "this manner. These functions also attach the necessary metadata\n",
    "to the Dataset objects, so that later when we construct `sharrow.Flow` \n",
    "instances, they can decode arrays automatically."
   ]
  },
  {
   "cell_type": "code",
   "execution_count": null,
   "id": "559dfa0a",
   "metadata": {},
   "outputs": [],
   "source": [
    "from sharrow.digital_encoding import array_encode, array_decode"
   ]
  },
  {
   "cell_type": "markdown",
   "id": "65e3948e",
   "metadata": {},
   "source": [
    "The distance data in the skims is a great candidate for fixed point\n",
    "of encoding.  We can peek at the top corner of this array:"
   ]
  },
  {
   "cell_type": "code",
   "execution_count": null,
   "id": "729aeb05",
   "metadata": {},
   "outputs": [],
   "source": [
    "skims.DIST.values[:2,:3]"
   ]
  },
  {
   "cell_type": "markdown",
   "id": "3142285a",
   "metadata": {},
   "source": [
    "The data are all small(ish) values with two decimal point fixed\n",
    "precision, so we can probably efficiently encode this data by scaling by 100.\n",
    "If we're not sure, we can confirm by checking the range of values, to make\n",
    "sure it fits inside the 16-bit integers we're hoping to use."
   ]
  },
  {
   "cell_type": "code",
   "execution_count": null,
   "id": "93163d29",
   "metadata": {},
   "outputs": [],
   "source": [
    "skims.DIST.values.min(), skims.DIST.values.max()"
   ]
  },
  {
   "cell_type": "markdown",
   "id": "ec58a25f",
   "metadata": {},
   "source": [
    "That's a really small range because this is only test data.  But even \n",
    "the full-scale MTC skims spanning the entire region don't contain distances\n",
    "over 300 miles.\n",
    "\n",
    "We can create a new DataArray and apply fixed point encoding using the\n",
    "`array_encode` function."
   ]
  },
  {
   "cell_type": "code",
   "execution_count": null,
   "id": "2a6b5b44",
   "metadata": {},
   "outputs": [],
   "source": [
    "distance_encoded = array_encode(skims.DIST, scale=0.01, offset=0)\n",
    "distance_encoded.values[:2,:3]"
   ]
  },
  {
   "cell_type": "code",
   "execution_count": null,
   "id": "2ad591bb",
   "metadata": {
    "tags": [
     "remove_cell"
    ]
   },
   "outputs": [],
   "source": [
    "# TEST encoding\n",
    "assert distance_encoded.dtype == np.int16\n",
    "np.testing.assert_array_equal(\n",
    "    distance_encoded.values[:2,:3],\n",
    "    np.array([[12, 24, 44], [37, 14, 28]], dtype=np.int16)\n",
    ")\n",
    "assert distance_encoded.attrs['digital_encoding'] == {'scale': 0.01, 'offset': 0, 'missing_value': None}"
   ]
  },
  {
   "cell_type": "markdown",
   "id": "17dadf8f",
   "metadata": {},
   "source": [
    "We can apply that function for any number of variables in the skims, and\n",
    "create a new Dataset that includes the encoded arrays."
   ]
  },
  {
   "cell_type": "code",
   "execution_count": null,
   "id": "50401375",
   "metadata": {},
   "outputs": [],
   "source": [
    "skims_encoded = skims.assign(\n",
    "    {'DIST': array_encode(skims.DIST, scale=0.01, offset=0)}\n",
    ")"
   ]
  },
  {
   "cell_type": "markdown",
   "id": "03ef433c",
   "metadata": {},
   "source": [
    "To manage the digital encodings across an entire dataset, sharrow implements\n",
    "a `digital_encoding` accessor.  You can use it to apply encodings to one or more\n",
    "variables in a simple fashion."
   ]
  },
  {
   "cell_type": "code",
   "execution_count": null,
   "id": "5e73b78f",
   "metadata": {},
   "outputs": [],
   "source": [
    "skims_encoded = skims_encoded.digital_encoding.set(['DISTWALK', 'DISTBIKE'], scale=0.01, offset=0)"
   ]
  },
  {
   "cell_type": "markdown",
   "id": "7ebda187",
   "metadata": {},
   "source": [
    "And you can review the encodings for every variable in the dataset like this:"
   ]
  },
  {
   "cell_type": "code",
   "execution_count": null,
   "id": "d5eb8600",
   "metadata": {},
   "outputs": [],
   "source": [
    "skims_encoded.digital_encoding.info()"
   ]
  },
  {
   "cell_type": "code",
   "execution_count": null,
   "id": "bd549b5e",
   "metadata": {
    "tags": [
     "remove_cell"
    ]
   },
   "outputs": [],
   "source": [
    "# TEST\n",
    "assert skims_encoded.digital_encoding.info() == {\n",
    " 'DIST': {'scale': 0.01, 'offset': 0, 'missing_value': None},\n",
    " 'DISTBIKE': {'scale': 0.01, 'offset': 0, 'missing_value': None},\n",
    " 'DISTWALK': {'scale': 0.01, 'offset': 0, 'missing_value': None},\n",
    "}"
   ]
  },
  {
   "cell_type": "markdown",
   "id": "0ba5279d",
   "metadata": {},
   "source": [
    "To demonstrate that the encoding works transparently with a `Flow`,\n",
    "we can construct a simple flow that extracts the distance and \n",
    "square of distance for the top corner of values we looked at above.\n",
    "\n",
    "First we'll do so for a flow with the original float32 encoded skims."
   ]
  },
  {
   "cell_type": "code",
   "execution_count": null,
   "id": "f4f21165",
   "metadata": {},
   "outputs": [],
   "source": [
    "pairs = pd.DataFrame({'orig': [0,0,0,1,1,1], 'dest': [0,1,2,0,1,2]})\n",
    "tree = sh.DataTree(\n",
    "    base=pairs, \n",
    "    skims=skims.drop_dims('time_period'), \n",
    "    relationships=(\n",
    "        \"base.orig -> skims.otaz\",\n",
    "        \"base.dest -> skims.dtaz\",\n",
    "    ),\n",
    ")\n",
    "flow = tree.setup_flow({'d1': 'DIST', 'd2': 'DIST**2'})\n",
    "arr = flow.load()\n",
    "arr"
   ]
  },
  {
   "cell_type": "markdown",
   "id": "45073351",
   "metadata": {},
   "source": [
    "We can do the same for the encoded skims, and we get exactly the\n",
    "same result, even though the encoded skims use less RAM."
   ]
  },
  {
   "cell_type": "code",
   "execution_count": null,
   "id": "7a4293f7",
   "metadata": {},
   "outputs": [],
   "source": [
    "tree_enc = sh.DataTree(\n",
    "    base=pairs, \n",
    "    skims=skims_encoded.drop_dims('time_period'), \n",
    "    relationships=(\n",
    "        \"base.orig -> skims.otaz\",\n",
    "        \"base.dest -> skims.dtaz\",\n",
    "    ),\n",
    ")\n",
    "flow_enc = tree_enc.setup_flow({'d1': 'DIST', 'd2': 'DIST**2'}, hashing_level=2)\n",
    "arr_enc = flow_enc.load()\n",
    "arr_enc"
   ]
  },
  {
   "cell_type": "code",
   "execution_count": null,
   "id": "7d74e53e",
   "metadata": {
    "tags": [
     "remove_cell"
    ]
   },
   "outputs": [],
   "source": [
    "# TEST\n",
    "np.testing.assert_array_almost_equal(arr, arr_enc)"
   ]
  },
  {
   "cell_type": "markdown",
   "id": "0cf99d04",
   "metadata": {},
   "source": [
    "Since we use exactly the same flow definition with a modified DataTree, \n",
    "we need to use `hashing_level=2` here to avoid accidentally picking up\n",
    "and running the compiled code from the first flow, which gives erroneous\n",
    "results as it's expecting a float32 instead of a scaled int16 array."
   ]
  },
  {
   "cell_type": "code",
   "execution_count": null,
   "id": "ab784063",
   "metadata": {},
   "outputs": [],
   "source": [
    "tree_bad = sh.DataTree(\n",
    "    base=pairs, \n",
    "    skims=skims_encoded.drop_dims('time_period'), \n",
    "    relationships=(\n",
    "        \"base.orig -> skims.otaz\",\n",
    "        \"base.dest -> skims.dtaz\",\n",
    "    ),\n",
    ")\n",
    "flow_bad = tree_bad.setup_flow({'d1': 'DIST', 'd2': 'DIST**2'})\n",
    "arr_bad = flow_bad.load()\n",
    "arr_bad"
   ]
  },
  {
   "cell_type": "code",
   "execution_count": null,
   "id": "6a2bdb42",
   "metadata": {
    "tags": [
     "remove_cell"
    ]
   },
   "outputs": [],
   "source": [
    "# TEST\n",
    "np.testing.assert_raises(\n",
    "    AssertionError, \n",
    "    np.testing.assert_array_almost_equal, arr, arr_bad\n",
    ")\n"
   ]
  },
  {
   "cell_type": "markdown",
   "id": "d743105b",
   "metadata": {},
   "source": [
    "## Dictionary Encoding\n",
    "\n",
    "For skim matrixes where the universe of all possible \n",
    "cell values can be adequately represented by just 255 \n",
    "unique values, we can use an explicit mapping process\n",
    "called \"dictionary encoding\", which works by storing \n",
    "those unique values in a tiny base array.  Then, in the \n",
    "main body of the skim data we only store pointers to \n",
    "positions in that base array. This reduces the marginal \n",
    "memory footprint of each array cell to just an 8 bit \n",
    "integer, reducing memory requirements by up to 75% for \n",
    "these arrays compared to float32's. This approach is \n",
    "particularly appropriate for many transit skims, as fares, \n",
    "wait times, and transfers can almost always be reduced \n",
    "to a dictionary encoding with no meaningful information \n",
    "loss.\n",
    "\n",
    "For example, the `'WLK_LOC_WLK_FAR'` array containing fares\n",
    "only has four unique values:"
   ]
  },
  {
   "cell_type": "code",
   "execution_count": null,
   "id": "eea40e35",
   "metadata": {},
   "outputs": [],
   "source": [
    "np.unique(skims.WLK_LOC_WLK_FAR)"
   ]
  },
  {
   "cell_type": "markdown",
   "id": "81c246a9",
   "metadata": {},
   "source": [
    "We can see various fares applied at different time periods if we\n",
    "look at the top corner of the array:"
   ]
  },
  {
   "cell_type": "code",
   "execution_count": null,
   "id": "83ffccc3",
   "metadata": {},
   "outputs": [],
   "source": [
    "skims.WLK_LOC_WLK_FAR.values[:2,:3,:]"
   ]
  },
  {
   "cell_type": "markdown",
   "id": "ed5018ff",
   "metadata": {},
   "source": [
    "Once encoded, the array itself only contains offset pointers (small integers),\n",
    "plus the original values stored in metadata."
   ]
  },
  {
   "cell_type": "code",
   "execution_count": null,
   "id": "bbac55dd",
   "metadata": {},
   "outputs": [],
   "source": [
    "wlwfare_enc = array_encode(skims.WLK_LOC_WLK_FAR, bitwidth=8, by_dict=True)\n",
    "wlwfare_enc.values[:2,:3,:]"
   ]
  },
  {
   "cell_type": "code",
   "execution_count": null,
   "id": "48eed254",
   "metadata": {},
   "outputs": [],
   "source": [
    "wlwfare_enc.attrs['digital_encoding']['dictionary']"
   ]
  },
  {
   "cell_type": "code",
   "execution_count": null,
   "id": "a016d30f",
   "metadata": {
    "tags": [
     "remove_cell"
    ]
   },
   "outputs": [],
   "source": [
    "# TEST encoding\n",
    "assert wlwfare_enc.dtype == np.uint8\n",
    "np.testing.assert_array_equal(\n",
    "    wlwfare_enc.values[:2,:3,:],\n",
    "    np.array([[[0, 0, 0, 0, 0],\n",
    "        [1, 2, 2, 1, 2],\n",
    "        [1, 2, 2, 1, 2]],\n",
    "\n",
    "       [[1, 1, 2, 2, 1],\n",
    "        [0, 0, 0, 0, 0],\n",
    "        [1, 2, 2, 1, 2]]], dtype=np.uint8)\n",
    ")\n",
    "np.testing.assert_array_equal(\n",
    "    wlwfare_enc.attrs['digital_encoding']['dictionary'],\n",
    "    np.array([   0.,  152.,  474.,  626.], dtype=np.float32)\n",
    ")"
   ]
  },
  {
   "cell_type": "markdown",
   "id": "e198cbae",
   "metadata": {},
   "source": [
    "If we want to recover the original data for analysis (other than in\n",
    "a Flow, which can decode it automatically), we can use the `array_decode` function."
   ]
  },
  {
   "cell_type": "code",
   "execution_count": null,
   "id": "15098a9c",
   "metadata": {},
   "outputs": [],
   "source": [
    "array_decode(wlwfare_enc)"
   ]
  },
  {
   "cell_type": "code",
   "execution_count": null,
   "id": "28afb335",
   "metadata": {
    "tags": [
     "remove_cell"
    ]
   },
   "outputs": [],
   "source": [
    "# TEST\n",
    "xr.testing.assert_equal(array_decode(wlwfare_enc), skims.WLK_LOC_WLK_FAR)"
   ]
  }
 ],
 "metadata": {
  "kernelspec": {
   "display_name": "Python 3 (ipykernel)",
   "language": "python",
   "name": "python3"
  },
  "language_info": {
   "codemirror_mode": {
    "name": "ipython",
    "version": 3
   },
   "file_extension": ".py",
   "mimetype": "text/x-python",
   "name": "python",
   "nbconvert_exporter": "python",
   "pygments_lexer": "ipython3",
   "version": "3.9.10"
  },
  "toc": {
   "base_numbering": 1,
   "nav_menu": {},
   "number_sections": false,
   "sideBar": true,
   "skip_h1_title": false,
   "title_cell": "Table of Contents",
   "title_sidebar": "Contents",
   "toc_cell": false,
   "toc_position": {},
   "toc_section_display": true,
   "toc_window_display": true
  }
 },
 "nbformat": 4,
 "nbformat_minor": 5
}
