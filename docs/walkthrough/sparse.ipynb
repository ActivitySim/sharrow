{
 "cells": [
  {
   "cell_type": "markdown",
   "id": "c871b4c1",
   "metadata": {},
   "source": [
    "# Using Sparse MAZ Skims"
   ]
  },
  {
   "cell_type": "code",
   "execution_count": null,
   "id": "b8401e0f",
   "metadata": {},
   "outputs": [],
   "source": [
    "import pandas as pd\n",
    "import xarray as xr\n",
    "import sharrow as sh"
   ]
  },
  {
   "cell_type": "markdown",
   "id": "20bc86e7",
   "metadata": {},
   "source": [
    "This notebook walks through using sparse MAZ to MAZ skims with sharrow.\n",
    "The example data we'll use to demonstrate this feature stats with regular\n",
    "TAZ-based skims."
   ]
  },
  {
   "cell_type": "code",
   "execution_count": null,
   "id": "d8982a01",
   "metadata": {},
   "outputs": [],
   "source": [
    "skims = sh.example_data.get_skims()\n",
    "skims"
   ]
  },
  {
   "cell_type": "markdown",
   "id": "35396a40",
   "metadata": {},
   "source": [
    "We'll also load a MAZ-to-TAZ mapping file, which defines the MAZ's and \n",
    "which TAZ is used for each MAZ."
   ]
  },
  {
   "cell_type": "code",
   "execution_count": null,
   "id": "dae3b485",
   "metadata": {},
   "outputs": [],
   "source": [
    "maz_taz = sh.example_data.get_maz_to_taz()\n",
    "maz_taz"
   ]
  },
  {
   "cell_type": "markdown",
   "id": "4639626f",
   "metadata": {},
   "source": [
    "Lastly, we'll load a sparse MAZ-to-MAZ skim table.  This table\n",
    "defines origin and destination MAZ's, and the walk distance\n",
    "between them.  The data is \"sparse\" in that only a limited number\n",
    "of OMAZ-DMAZ pairs are included.  Unlike traditional sparse arrays,\n",
    "the missing elements are not assumed to be zero, but instead we \n",
    "implicitly use the walk distance from the matching TAZ's in the\n",
    "TAZ-based skims for those zone pairs."
   ]
  },
  {
   "cell_type": "code",
   "execution_count": null,
   "id": "1e10b2e2",
   "metadata": {},
   "outputs": [],
   "source": [
    "maz_to_maz_walk = sh.example_data.get_maz_to_maz_walk()\n",
    "maz_to_maz_walk"
   ]
  },
  {
   "cell_type": "markdown",
   "id": "a8eb5269",
   "metadata": {},
   "source": [
    "To integrate these data sources, we will set a redirection on the skims.\n",
    "This will add the MAZ dimensions to the skims, MAZ id's as additional \n",
    "coordinates, and will set attribute flags to tell sharrow which dimensions\n",
    "have been redirected."
   ]
  },
  {
   "cell_type": "code",
   "execution_count": null,
   "id": "8071c236",
   "metadata": {},
   "outputs": [],
   "source": [
    "skims.redirection.set(\n",
    "    maz_taz, \n",
    "    map_to='otaz', \n",
    "    name=\"omaz\",\n",
    "    map_also={'dtaz': \"dmaz\"}, \n",
    ")"
   ]
  },
  {
   "cell_type": "code",
   "execution_count": null,
   "id": "6511cc93",
   "metadata": {},
   "outputs": [],
   "source": [
    "skims"
   ]
  },
  {
   "cell_type": "markdown",
   "id": "d1105ef9",
   "metadata": {},
   "source": [
    "Next, we can attach the sparse skims using `redirection.sparse_blender`.\n",
    "This formats the sparse skim table into compressed sparse row format,\n",
    "and attaches the resulting arrays to the Dataset.  You may notice\n",
    "this adds a couple new non-indexed dimensions, as the sparse arrays\n",
    "don't align with the existing data, but that's by design."
   ]
  },
  {
   "cell_type": "code",
   "execution_count": null,
   "id": "2269a8c2",
   "metadata": {},
   "outputs": [],
   "source": [
    "skims.redirection.sparse_blender(\n",
    "    'DISTWALK', \n",
    "    maz_to_maz_walk.OMAZ, \n",
    "    maz_to_maz_walk.DMAZ, \n",
    "    maz_to_maz_walk.DISTWALK,\n",
    "    max_blend_distance=1.0,\n",
    ")\n",
    "skims"
   ]
  },
  {
   "cell_type": "markdown",
   "id": "ff55a65d",
   "metadata": {},
   "source": [
    "Now the skims are ready to use!\n",
    "\n",
    "For demonstration purposes, let's construct a trips dataframe with just a few\n",
    "origin-destination pairs."
   ]
  },
  {
   "cell_type": "code",
   "execution_count": null,
   "id": "4eaf4dbb",
   "metadata": {},
   "outputs": [],
   "source": [
    "trips = pd.DataFrame({\n",
    "    'orig_maz': [100, 100, 100, 200, 200],\n",
    "    'dest_maz': [100, 101, 103, 201, 202],\n",
    "})\n",
    "trips"
   ]
  },
  {
   "cell_type": "markdown",
   "id": "998d16be",
   "metadata": {},
   "source": [
    "We'll then put the trips together with the skims into a DataTree, as\n",
    "usual for sharrow."
   ]
  },
  {
   "cell_type": "code",
   "execution_count": null,
   "id": "60a6848c",
   "metadata": {},
   "outputs": [],
   "source": [
    "tree = sh.DataTree(\n",
    "    base=trips,\n",
    "    skims=skims,\n",
    "    relationships=(\n",
    "        \"base.orig_maz @ skims.otaz\",\n",
    "        \"base.dest_maz @ skims.dtaz\",\n",
    "    )\n",
    ")"
   ]
  },
  {
   "cell_type": "markdown",
   "id": "a3523e22",
   "metadata": {},
   "source": [
    "Now we can setup flows on this tree."
   ]
  },
  {
   "cell_type": "code",
   "execution_count": null,
   "id": "be2e86f3",
   "metadata": {},
   "outputs": [],
   "source": [
    "flow = tree.setup_flow({\n",
    "    'plain_distance': 'DISTWALK',\n",
    "})"
   ]
  },
  {
   "cell_type": "code",
   "execution_count": null,
   "id": "4a43c2b0",
   "metadata": {},
   "outputs": [],
   "source": [
    "flow.load()"
   ]
  },
  {
   "cell_type": "markdown",
   "id": "8d7b3902",
   "metadata": {},
   "source": [
    "Where the sparse data is missing or exceeds the max blending distance,\n",
    "the dense data is returned.  Otherwise, the output is not strictly taken \n",
    "from the sparse or dense skims, but it is a blended mixture of the two. "
   ]
  },
  {
   "cell_type": "code",
   "execution_count": null,
   "id": "fa6dc462",
   "metadata": {},
   "outputs": [],
   "source": [
    "# TEST\n",
    "from pytest import approx\n",
    "sparse_dat = np.array([0.01, 0.2, np.nan, 3.2, np.nan])\n",
    "dense_dat = np.array([0.12,0.12,0.12,0.17,0.17])\n",
    "def blend(s,d, max_s):\n",
    "    out = np.zeros_like(d)\n",
    "    ratio = s/max_s\n",
    "    out = d*ratio + s*(1-ratio)\n",
    "    out = np.where(s>max_s, d, out)\n",
    "    out = np.where(np.isnan(s), d, out)\n",
    "    return out\n",
    "assert blend(sparse_dat, dense_dat, 1.0) == approx(flow.load().ravel())"
   ]
  },
  {
   "cell_type": "markdown",
   "id": "9b4604e3",
   "metadata": {},
   "source": [
    "We can apply all the transformation we like, as usual."
   ]
  },
  {
   "cell_type": "code",
   "execution_count": null,
   "id": "6b9aa948",
   "metadata": {},
   "outputs": [],
   "source": [
    "flow2 = tree.setup_flow({\n",
    "    'plain_distance': 'DISTWALK',\n",
    "    'clip_distance': 'DISTWALK.clip(upper=0.15)',\n",
    "    'square_distance': 'DISTWALK**2',\n",
    "})"
   ]
  },
  {
   "cell_type": "code",
   "execution_count": null,
   "id": "1526e25b",
   "metadata": {},
   "outputs": [],
   "source": [
    "flow2.load_dataframe()"
   ]
  },
  {
   "cell_type": "code",
   "execution_count": null,
   "id": "a2fd8300",
   "metadata": {},
   "outputs": [],
   "source": [
    "# TEST\n",
    "assert flow2.load_dataframe().values == approx(np.array([\n",
    "    [ 1.1100e-02,  1.1100e-02,  1.2321e-04],\n",
    "    [ 1.8400e-01,  1.5000e-01,  3.3856e-02],\n",
    "    [ 1.2000e-01,  1.2000e-01,  1.4400e-02],\n",
    "    [ 1.7000e-01,  1.5000e-01,  2.8900e-02],\n",
    "    [ 1.7000e-01,  1.5000e-01,  2.8900e-02]], dtype=np.float32)\n",
    ")"
   ]
  },
  {
   "cell_type": "markdown",
   "id": "fda98fdf",
   "metadata": {},
   "source": [
    "## Using at and iat\n",
    "\n",
    "The `at` and `iat` accessors work even when sparse matrix tables are\n",
    "attached to a Dataset, with a few caveats.  First, only 2-dimension\n",
    "sparse tables are supported at this time.  Second, these accessors \n",
    "rely on the ability to reference the sparse data, which is lost if \n",
    "the dataset is naively filtered for variable names; filtering should\n",
    "instead be done in the `_names` argument, which filters the \n",
    "output of the accessor instead of the input.  For example:"
   ]
  },
  {
   "cell_type": "code",
   "execution_count": null,
   "id": "68be17b8",
   "metadata": {},
   "outputs": [],
   "source": [
    "skims.at(\n",
    "    otaz=trips.orig_maz,\n",
    "    dtaz=trips.dest_maz,\n",
    "    _names=['DIST', 'DISTWALK'], _load=True,\n",
    ")"
   ]
  },
  {
   "cell_type": "code",
   "execution_count": null,
   "id": "dae4fea4",
   "metadata": {},
   "outputs": [],
   "source": [
    "# TEST\n",
    "out = skims.at(\n",
    "    otaz=trips.orig_maz,\n",
    "    dtaz=trips.dest_maz,\n",
    "    _names=['DIST', 'DISTWALK'], _load=True,\n",
    ")\n",
    "np.testing.assert_array_almost_equal(\n",
    "    out['DIST'].to_numpy(), \n",
    "    np.array([0.12, 0.12, 0.12, 0.17, 0.17], dtype=np.float32)\n",
    ")\n",
    "np.testing.assert_array_almost_equal(\n",
    "    out['DISTWALK'].to_numpy(), \n",
    "    np.array([0.0111, 0.184, 0.12,  0.17, 0.17], dtype=np.float32)\n",
    ")\n",
    "\n",
    "from pytest import raises\n",
    "with raises(NotImplementedError):\n",
    "    skims.at(\n",
    "        otaz=trips.orig_maz,\n",
    "        dtaz=trips.dest_maz,\n",
    "        time_period=['AM', 'AM', 'AM', 'AM', 'AM'],\n",
    "        _names=['DIST', 'DISTWALK', 'SOV_TIME'], _load=True,\n",
    "    )"
   ]
  },
  {
   "cell_type": "code",
   "execution_count": null,
   "id": "e322a00e",
   "metadata": {},
   "outputs": [],
   "source": [
    "skims.iat(\n",
    "    otaz=[  0,   0,   0, 100, 100],\n",
    "    dtaz=[  0,   1,   3, 101, 102],\n",
    "    _names=['DIST', 'DISTWALK'], _load=True,\n",
    ")"
   ]
  },
  {
   "cell_type": "code",
   "execution_count": null,
   "id": "92c5a078",
   "metadata": {},
   "outputs": [],
   "source": [
    "# TEST\n",
    "out = skims.iat(\n",
    "    otaz=[  0,   0,   0, 100, 100],\n",
    "    dtaz=[  0,   1,   3, 101, 102],\n",
    "    _names=['DIST', 'DISTWALK'], _load=True,\n",
    ")\n",
    "np.testing.assert_array_almost_equal(\n",
    "    out['DIST'].to_numpy(), \n",
    "    np.array([0.12, 0.12, 0.12, 0.17, 0.17], dtype=np.float32)\n",
    ")\n",
    "np.testing.assert_array_almost_equal(\n",
    "    out['DISTWALK'].to_numpy(), \n",
    "    np.array([0.0111, 0.184, 0.12,  0.17, 0.17], dtype=np.float32)\n",
    ")\n"
   ]
  }
 ],
 "metadata": {
  "kernelspec": {
   "display_name": "Python 3 (ipykernel)",
   "language": "python",
   "name": "python3"
  },
  "language_info": {
   "codemirror_mode": {
    "name": "ipython",
    "version": 3
   },
   "file_extension": ".py",
   "mimetype": "text/x-python",
   "name": "python",
   "nbconvert_exporter": "python",
   "pygments_lexer": "ipython3",
   "version": "3.9.10"
  },
  "toc": {
   "base_numbering": 1,
   "nav_menu": {},
   "number_sections": false,
   "sideBar": true,
   "skip_h1_title": false,
   "title_cell": "Table of Contents",
   "title_sidebar": "Contents",
   "toc_cell": false,
   "toc_position": {},
   "toc_section_display": true,
   "toc_window_display": true
  }
 },
 "nbformat": 4,
 "nbformat_minor": 5
}
