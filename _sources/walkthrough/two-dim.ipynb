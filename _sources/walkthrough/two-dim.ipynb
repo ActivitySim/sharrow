{
 "cells": [
  {
   "cell_type": "markdown",
   "id": "7998b969",
   "metadata": {},
   "source": [
    "# Multi-Dimensional Analysis\n",
    "\n",
    "This notebook provides a walkthrough of some of the multi-dimensional analysis\n",
    "capabilities of the `sharrow` library."
   ]
  },
  {
   "cell_type": "code",
   "execution_count": null,
   "id": "d4e7246c",
   "metadata": {},
   "outputs": [],
   "source": [
    "import numpy as np\n",
    "import pandas as pd\n",
    "import xarray as xr\n",
    "\n",
    "import sharrow as sh\n",
    "sh.__version__"
   ]
  },
  {
   "cell_type": "code",
   "execution_count": null,
   "id": "1f409525",
   "metadata": {
    "tags": [
     "remove_cell"
    ]
   },
   "outputs": [],
   "source": [
    "# TEST check versions\n",
    "import packaging\n",
    "assert packaging.version.parse(xr.__version__) >= packaging.version.parse(\"0.20.2\")"
   ]
  },
  {
   "cell_type": "markdown",
   "id": "6085397c",
   "metadata": {},
   "source": [
    "## Example Data\n",
    "\n",
    "We'll begin by again importing some example data to work with.  We'll be using \n",
    "some test data taken from the MTC example in the ActivitySim project, including \n",
    "tables of data for households and persons, as well as a set of \n",
    "skims containing transportation level of service information for travel around\n",
    "a tiny slice of San Francisco.\n",
    "\n",
    "The households and persons are typical tabular data, and \n",
    "each can be read in and stored as a `pandas.DataFrame`."
   ]
  },
  {
   "cell_type": "code",
   "execution_count": null,
   "id": "56f4bb4d",
   "metadata": {},
   "outputs": [],
   "source": [
    "households = sh.example_data.get_households()\n",
    "households.head()"
   ]
  },
  {
   "cell_type": "code",
   "execution_count": null,
   "id": "5a369bd3",
   "metadata": {
    "tags": [
     "remove-cell"
    ]
   },
   "outputs": [],
   "source": [
    "# test households content\n",
    "assert len(households) == 5000\n",
    "assert \"income\" in households \n",
    "assert households.index.name == \"HHID\""
   ]
  },
  {
   "cell_type": "code",
   "execution_count": null,
   "id": "8f2db078",
   "metadata": {},
   "outputs": [],
   "source": [
    "persons = sh.example_data.get_persons()\n",
    "persons.head()"
   ]
  },
  {
   "cell_type": "code",
   "execution_count": null,
   "id": "56ef0b92",
   "metadata": {
    "tags": [
     "remove-cell"
    ]
   },
   "outputs": [],
   "source": [
    "assert len(persons) == 8212\n",
    "assert \"household_id\" in persons\n",
    "assert persons.index.name == 'PERID'"
   ]
  },
  {
   "cell_type": "markdown",
   "id": "077d2d46",
   "metadata": {},
   "source": [
    "The skims, on the other hand, are not just simple tabular data, but rather a \n",
    "multi-dimensional representation of the transportation system, indexed by origin.\n",
    "destination, and time of day. Rather than using a single DataFrame for this data,\n",
    "we store it as a multi-dimensional `xarray.Dataset`."
   ]
  },
  {
   "cell_type": "code",
   "execution_count": null,
   "id": "b087c457",
   "metadata": {},
   "outputs": [],
   "source": [
    "skims = sh.example_data.get_skims()\n",
    "skims"
   ]
  },
  {
   "cell_type": "markdown",
   "id": "9e3226ae",
   "metadata": {},
   "source": [
    "For this example, we'll also load a land use table, that contains some attributes of the alternatives."
   ]
  },
  {
   "cell_type": "code",
   "execution_count": null,
   "id": "ca135ccd",
   "metadata": {},
   "outputs": [],
   "source": [
    "landuse = sh.example_data.get_land_use()\n",
    "landuse.head()"
   ]
  },
  {
   "cell_type": "markdown",
   "id": "266f2390",
   "metadata": {},
   "source": [
    "## Multi-Dimensional Analysis\n",
    "\n",
    "Now that we're loaded our inputs, let's take a look at \n",
    "preparing some data for a workplace location choice simulation model.\n",
    "This is a different kind of model, and it will use differently shaped data: the decision \n",
    "makers (or \"choosers\") in this model will be the workers, and the alternatives \n",
    "will be the various zones included in the land use table.\n",
    "\n",
    "The workers are only a subset of the persons data we looked at before.  We can identify workers from\n",
    "values 1 and 2 (full-time employed and part-time employed) in the `'pemploy'` attribute \n",
    "of the `persons` table. "
   ]
  },
  {
   "cell_type": "code",
   "execution_count": null,
   "id": "37b86b79",
   "metadata": {},
   "outputs": [],
   "source": [
    "workers = persons.query(\"pemploy in [1,2]\").rename_axis(index='WORKERID')\n",
    "workers"
   ]
  },
  {
   "cell_type": "markdown",
   "id": "331a24d4",
   "metadata": {},
   "source": [
    "As we filter the persons table to just the workers, we also renamed the index from\n",
    "\"PERSONID\" to \"WORKERID\".  This renaming is important for `sharrow`, as it expects dimensions\n",
    "that have the same name to match, but the workers don't align directly with the persons \n",
    "anymore."
   ]
  },
  {
   "cell_type": "markdown",
   "id": "79f95d17",
   "metadata": {},
   "source": [
    "For our workplace location choice model, we will want to link in data from our skims,\n",
    "which can tell us about travel times and costs.  Since we have not yet determined a \n",
    "time of day for each worker's work tours, we'll just use the `'AM'` skims for the outbound\n",
    "leg of a hypothetical work tour, and the `'PM'` skims for the return leg.  Instead of \n",
    "trying to select constant skims using the dynamic lookups that sharrow can compile, \n",
    "we can just filter the skims down in a static manner before placing them into the data tree."
   ]
  },
  {
   "cell_type": "code",
   "execution_count": null,
   "id": "c76e7781",
   "metadata": {},
   "outputs": [],
   "source": [
    "skims_am = skims.sel(time_period='AM')\n",
    "skims_pm = skims.sel(time_period='PM')"
   ]
  },
  {
   "cell_type": "markdown",
   "id": "7168de32",
   "metadata": {},
   "source": [
    "## Creating a DataTree Iteratively"
   ]
  },
  {
   "cell_type": "markdown",
   "id": "80968843",
   "metadata": {},
   "source": [
    "The last step in getting ready for this model is building out the relationships between all\n",
    "this data we've prepared. We'll again use the `DataTree` class to do that, but this time \n",
    "we'll demostrate building the tree in stages.  First, we'll create a\n",
    "base Dataset to be the root data for the tree. We can start by creating an otherwise empty `Dataset` indexed on the two dimensions we want to end up with for analysis, workers and zones."
   ]
  },
  {
   "cell_type": "code",
   "execution_count": null,
   "id": "f68826ca",
   "metadata": {},
   "outputs": [],
   "source": [
    "base = sh.dataset.from_named_objects(\n",
    "    workers.index, \n",
    "    landuse.index,\n",
    ")"
   ]
  },
  {
   "cell_type": "code",
   "execution_count": null,
   "id": "f2ba1f96",
   "metadata": {},
   "outputs": [],
   "source": [
    "base"
   ]
  },
  {
   "cell_type": "markdown",
   "id": "824c3c0c",
   "metadata": {},
   "source": [
    "Since our base dataset has\n",
    "two dimensions, we can specify a dimension order when writing into\n",
    "a DataTree (the default is alphabetical order).\n",
    "This ordering will be applied to outputs from the flows later."
   ]
  },
  {
   "cell_type": "code",
   "execution_count": null,
   "id": "ec526ae0",
   "metadata": {},
   "outputs": [],
   "source": [
    "tree = sh.DataTree(base=base, dim_order=('WORKERID', 'TAZ'))"
   ]
  },
  {
   "cell_type": "code",
   "execution_count": null,
   "id": "7b0a4e36",
   "metadata": {
    "tags": [
     "remove-cell",
     "remove_cell"
    ]
   },
   "outputs": [],
   "source": [
    "# TEST tree_dest attributes\n",
    "assert tree.dim_order == ('WORKERID', 'TAZ')\n",
    "assert tree.shape == (4361, 25)"
   ]
  },
  {
   "cell_type": "markdown",
   "id": "a49bd3f5",
   "metadata": {},
   "source": [
    "Then, we can progressively build our `DataTree` by adding additional data. \n",
    "Each new branch of the tree we want to add using the `add_dataset` command should have a \n",
    "unique name, a dataset being attached, and one or more relationship declarations\n",
    "that describe how the new data attaches.  For example, we can attach the `persons`\n",
    "data like this:"
   ]
  },
  {
   "cell_type": "code",
   "execution_count": null,
   "id": "a594e5e1",
   "metadata": {},
   "outputs": [],
   "source": [
    "tree.add_dataset('person', persons, \"base.WORKERID @ person.PERID\")"
   ]
  },
  {
   "cell_type": "markdown",
   "id": "f145858c",
   "metadata": {},
   "source": [
    "The relationship definition here starts with a dotted name of some data \n",
    "dimension already in the tree, an `@` operator to indicating matching by\n",
    "label in that dimension."
   ]
  },
  {
   "cell_type": "code",
   "execution_count": null,
   "id": "4e270e91",
   "metadata": {},
   "outputs": [],
   "source": [
    "tree.add_dataset('landuse', landuse, \"base.TAZ @ landuse.TAZ\")\n",
    "tree.add_dataset('hh', households, \"person.household_id @ hh.HHID\")"
   ]
  },
  {
   "cell_type": "markdown",
   "id": "bd7546c0",
   "metadata": {},
   "source": [
    "Unlike in the mode choice work in the previous example, we've already filtered the \n",
    "time period dimensions of the skims to be morning and afternoon peak,\n",
    "so we simply attach the two different parts, linking relationships only\n",
    "for the remaining dimensions."
   ]
  },
  {
   "cell_type": "code",
   "execution_count": null,
   "id": "b7a256e0",
   "metadata": {},
   "outputs": [],
   "source": [
    "tree.add_dataset(\n",
    "    'odskims', \n",
    "    skims_am, \n",
    "    relationships=(\n",
    "        \"hh.TAZ @ odskims.otaz\", \n",
    "        \"base.TAZ @ odskims.dtaz\",\n",
    "    ),\n",
    ")\n",
    "\n",
    "tree.add_dataset(\n",
    "    'doskims', \n",
    "    skims_pm, \n",
    "    relationships=(\n",
    "        \"base.TAZ @ doskims.otaz\",\n",
    "        \"hh.TAZ @ doskims.dtaz\",\n",
    "    ),\n",
    ")"
   ]
  },
  {
   "cell_type": "markdown",
   "id": "3d24e888",
   "metadata": {},
   "source": [
    "## Dynamically Defined Flows \n",
    "\n",
    "Although it is convenient to write expressions into a seperately configured \n",
    "\"spec\" file, especially when working with \n",
    "ActivitySim, it's not strictly necessary to employ such a file in csv format; \n",
    "a simple Python dictionary can also be used to setup a flow."
   ]
  },
  {
   "cell_type": "code",
   "execution_count": null,
   "id": "273996a2",
   "metadata": {},
   "outputs": [],
   "source": [
    "definition = {\n",
    "    'round_trip_dist': 'odskims.DIST + doskims.DIST',\n",
    "    'round_trip_dist_first_mile': 'clip(odskims.DIST, 0, 1) + clip(doskims.DIST, 0, 1)',\n",
    "    'round_trip_dist_addl_miles': 'clip(odskims.DIST-1, 0, None) + clip(doskims.DIST-1, 0, None)',\n",
    "    'size_term': 'log(TOTPOP + 0.5*EMPRES)',\n",
    "}\n",
    "\n",
    "flow = tree.setup_flow(definition)"
   ]
  },
  {
   "cell_type": "markdown",
   "id": "02235003",
   "metadata": {},
   "source": [
    "Loading from this flow is done the same as before."
   ]
  },
  {
   "cell_type": "code",
   "execution_count": null,
   "id": "45fd341d",
   "metadata": {},
   "outputs": [],
   "source": [
    "arr = flow.load()\n",
    "arr"
   ]
  },
  {
   "cell_type": "code",
   "execution_count": null,
   "id": "4f7aa608",
   "metadata": {
    "tags": [
     "remove-cell"
    ]
   },
   "outputs": [],
   "source": [
    "assert arr.shape == (4361, 25, 4)\n",
    "expected = np.array([\n",
    "       [[ 0.61    ,  0.61    ,  0.      ,  4.610157],\n",
    "        [ 0.28    ,  0.28    ,  0.      ,  5.681878],\n",
    "        [ 0.56    ,  0.56    ,  0.      ,  6.368187],\n",
    "        [ 0.53    ,  0.53    ,  0.      ,  5.741399],\n",
    "        [ 1.23    ,  1.23    ,  0.      ,  7.17549 ]],\n",
    "\n",
    "       [[ 1.19    ,  1.19    ,  0.      ,  4.610157],\n",
    "        [ 1.49    ,  1.49    ,  0.      ,  5.681878],\n",
    "        [ 1.88    ,  1.85    ,  0.03    ,  6.368187],\n",
    "        [ 1.36    ,  1.36    ,  0.      ,  5.741399],\n",
    "        [ 1.93    ,  1.93    ,  0.      ,  7.17549 ]],\n",
    "\n",
    "       [[ 1.19    ,  1.19    ,  0.      ,  4.610157],\n",
    "        [ 1.49    ,  1.49    ,  0.      ,  5.681878],\n",
    "        [ 1.88    ,  1.85    ,  0.03    ,  6.368187],\n",
    "        [ 1.36    ,  1.36    ,  0.      ,  5.741399],\n",
    "        [ 1.93    ,  1.93    ,  0.      ,  7.17549 ]],\n",
    "\n",
    "       [[ 0.24    ,  0.24    ,  0.      ,  4.610157],\n",
    "        [ 0.61    ,  0.61    ,  0.      ,  5.681878],\n",
    "        [ 1.01    ,  1.01    ,  0.      ,  6.368187],\n",
    "        [ 0.75    ,  0.75    ,  0.      ,  5.741399],\n",
    "        [ 1.38    ,  1.38    ,  0.      ,  7.17549 ]],\n",
    "\n",
    "       [[ 0.61    ,  0.61    ,  0.      ,  4.610157],\n",
    "        [ 0.28    ,  0.28    ,  0.      ,  5.681878],\n",
    "        [ 0.56    ,  0.56    ,  0.      ,  6.368187],\n",
    "        [ 0.53    ,  0.53    ,  0.      ,  5.741399],\n",
    "        [ 1.23    ,  1.23    ,  0.      ,  7.17549 ]],\n",
    "], dtype=np.float32)\n",
    "\n",
    "np.testing.assert_array_almost_equal(arr[:5, :5, :], expected)"
   ]
  },
  {
   "cell_type": "markdown",
   "id": "f121385a",
   "metadata": {},
   "source": [
    "For the tour mode example above, the tours dataset had only one dimension (TOURIDX),\n",
    "and so the output of the load function had two dimensions (TOURIDX and expressions).\n",
    "In this example, the base dataset in the tree has two dimensions (workers and zones)\n",
    "and so the result from the basic `load` function has *three* dimensions (workers, zones, and expressions)."
   ]
  },
  {
   "cell_type": "code",
   "execution_count": null,
   "id": "13782036",
   "metadata": {},
   "outputs": [],
   "source": [
    "arr.shape"
   ]
  },
  {
   "cell_type": "markdown",
   "id": "e9de50ce",
   "metadata": {},
   "source": [
    "Just as we could neatly format the two-dimensional output above as a `pandas.DataFrame`,\n",
    "so too can we neatly format this three-dimensional output, as a `xarray.DataArray`."
   ]
  },
  {
   "cell_type": "code",
   "execution_count": null,
   "id": "e1dfa88c",
   "metadata": {},
   "outputs": [],
   "source": [
    "arr_pretty = flow.load_dataarray()\n",
    "arr_pretty"
   ]
  },
  {
   "cell_type": "code",
   "execution_count": null,
   "id": "03bb0e22",
   "metadata": {
    "tags": [
     "remove-cell",
     "remove_cell"
    ]
   },
   "outputs": [],
   "source": [
    "# TEST\n",
    "assert isinstance(arr_pretty, xr.DataArray)\n",
    "assert arr_pretty.dims == ('WORKERID', 'TAZ', 'expressions')\n",
    "assert arr_pretty.shape == (4361, 25, 4)\n",
    "assert all(arr_pretty.expressions == np.array(['round_trip_dist', 'round_trip_dist_first_mile',\n",
    "       'round_trip_dist_addl_miles', 'size_term'], dtype='<U26'))"
   ]
  },
  {
   "cell_type": "markdown",
   "id": "5fce998b",
   "metadata": {},
   "source": [
    "## Linear-in-Parameters Functions\n",
    "\n",
    "We can also use the `dot` method here with the two dimensional base.\n",
    "We'll apply a one-dimensional coefficients array, with length three to \n",
    "match the three terms in the spec."
   ]
  },
  {
   "cell_type": "code",
   "execution_count": null,
   "id": "504897a4",
   "metadata": {},
   "outputs": [],
   "source": [
    "coefs = np.asarray([1.0, 0.1, 0.01, 0.001])\n",
    "flow.dot(coefs)"
   ]
  },
  {
   "cell_type": "markdown",
   "id": "f95acc3c",
   "metadata": {},
   "source": [
    "The `dot_dataarray` method does the same underlying computational work, but \n",
    "yields a well-formatted DataArray intead of just a plain numpy array."
   ]
  },
  {
   "cell_type": "code",
   "execution_count": null,
   "id": "ae61561a",
   "metadata": {},
   "outputs": [],
   "source": [
    "flow.dot_dataarray(coefs)"
   ]
  },
  {
   "cell_type": "markdown",
   "id": "5ff32a79",
   "metadata": {},
   "source": [
    "## Multinomial Logit Simulation\n",
    "\n",
    "And we can build and simulate an MNL model directly using the `mnl_draws` method.  \n",
    "To do so we need to\n",
    "provide the \"random\" draws exogenously.  Here, we'll sample 10 zones (with\n",
    "replacement) from the selection of alternatives."
   ]
  },
  {
   "cell_type": "code",
   "execution_count": null,
   "id": "3dec4791",
   "metadata": {},
   "outputs": [],
   "source": [
    "draws = np.random.default_rng(123).random(size=[4361, 10])"
   ]
  },
  {
   "cell_type": "code",
   "execution_count": null,
   "id": "4f032eef",
   "metadata": {},
   "outputs": [],
   "source": [
    "choices, choice_probs = flow.mnl_draws(\n",
    "    coefficients=coefs,\n",
    "    draws=draws,\n",
    ")"
   ]
  },
  {
   "cell_type": "code",
   "execution_count": null,
   "id": "1401fbe4",
   "metadata": {},
   "outputs": [],
   "source": [
    "choices"
   ]
  },
  {
   "cell_type": "code",
   "execution_count": null,
   "id": "4050bdce",
   "metadata": {},
   "outputs": [],
   "source": [
    "choice_probs"
   ]
  },
  {
   "cell_type": "code",
   "execution_count": null,
   "id": "01e87f9f",
   "metadata": {
    "tags": [
     "remove-cell"
    ]
   },
   "outputs": [],
   "source": [
    "expected = np.array([[ 5,  8,  8,  9,  9, 18, 19, 19, 19, 20],\n",
    "       [ 7,  7,  7,  9, 10, 17, 18, 19, 20, 23],\n",
    "       [ 1,  6,  6,  7,  9,  9, 13, 17, 18, 22],\n",
    "       [ 8,  9,  9, 18, 18, 19, 19, 19, 19, 20],\n",
    "       [ 2,  4,  6,  8,  9, 10, 17, 17, 18, 18],\n",
    "       # ...,\n",
    "       [ 0,  1,  7,  9, 13, 21, 22, 22, 24, 24],\n",
    "       [ 0,  5,  5,  6,  8,  8, 18, 21, 22, 22],\n",
    "       [ 5,  6,  7, 13, 15, 22, 22, 22, 23, 23],\n",
    "       [ 0,  2,  3, 13, 16, 22, 22, 22, 24, 24],\n",
    "       [ 7,  8,  8, 11, 14, 14, 16, 21, 22, 22]], dtype=np.int32)\n",
    "np.testing.assert_array_equal(choices[:5], expected[:5])\n",
    "np.testing.assert_array_equal(choices[-5:], expected[-5:])\n",
    "\n",
    "expected = np.array([\n",
    "       [ 0.021757,  0.082092,  0.082092,  0.090812,  0.090812,  0.239048,  0.130507,  0.130507,  0.130507,  0.038469],\n",
    "       [ 0.063636,  0.063636,  0.063636,  0.103338,  0.039564,  0.035372,  0.10316 ,  0.064873,  0.021167,  0.031342],\n",
    "       [ 0.017309,  0.052503,  0.052503,  0.063636,  0.103338,  0.103338,  0.008113,  0.035372,  0.10316 ,  0.054565],\n",
    "       [ 0.08459 ,  0.094525,  0.094525,  0.246322,  0.246322,  0.134478,  0.134478,  0.134478,  0.134478,  0.040041],\n",
    "       [ 0.006765,  0.014148,  0.027726,  0.082092,  0.090812,  0.035121,  0.082798,  0.082798,  0.239048,  0.239048],\n",
    "       # ...,\n",
    "       [ 0.046512,  0.039614,  0.019715,  0.028343,  0.031909,  0.08728 ,  0.207882,  0.207882,  0.06648 ,  0.06648 ],\n",
    "       [ 0.046512,  0.039726,  0.039726,  0.027111,  0.038968,  0.038968,  0.028924,  0.08728 ,  0.207882,  0.207882],\n",
    "       [ 0.039726,  0.027111,  0.019715,  0.031909,  0.023773,  0.207882,  0.207882,  0.207882,  0.069134,  0.069134],\n",
    "       [ 0.046512,  0.036197,  0.025022,  0.031909,  0.03535 ,  0.207882,  0.207882,  0.207882,  0.06648 ,  0.06648 ],\n",
    "       [ 0.019715,  0.038968,  0.038968,  0.013389,  0.048031,  0.048031,  0.03535 ,  0.08728 ,  0.207882,  0.207882]])\n",
    "np.testing.assert_array_almost_equal(choice_probs[:5], expected[:5])\n",
    "np.testing.assert_array_almost_equal(choice_probs[-5:], expected[-5:])\n"
   ]
  },
  {
   "cell_type": "markdown",
   "id": "f700d084",
   "metadata": {},
   "source": [
    "It's more common to make many repeated choices for destination choice type models\n",
    "(e.g. to sample destinations), so there's also a \"pick count\" feature, that\n",
    "can summarize the simulation results efficiently."
   ]
  },
  {
   "cell_type": "code",
   "execution_count": null,
   "id": "93d030f5",
   "metadata": {},
   "outputs": [],
   "source": [
    "choices_, choice_probs_, pick_count = flow.mnl_draws(\n",
    "    coefficients=coefs,\n",
    "    draws=draws,\n",
    "    pick_counted=True,\n",
    ")"
   ]
  },
  {
   "cell_type": "markdown",
   "id": "e6a84dab",
   "metadata": {},
   "source": [
    "If you compare against the non-pick-counted results above, you'll see \n",
    "that we get exactly the same choices out, but when choices are repeated\n",
    "they are aggregated in the resulting arrays."
   ]
  },
  {
   "cell_type": "code",
   "execution_count": null,
   "id": "0d7303c8",
   "metadata": {},
   "outputs": [],
   "source": [
    "choices_"
   ]
  },
  {
   "cell_type": "code",
   "execution_count": null,
   "id": "8bcb1a84",
   "metadata": {},
   "outputs": [],
   "source": [
    "pick_count"
   ]
  },
  {
   "cell_type": "code",
   "execution_count": null,
   "id": "dfd6d42a",
   "metadata": {
    "tags": [
     "remove-cell",
     "remove_cell"
    ]
   },
   "outputs": [],
   "source": [
    "# TEST pick count results\n",
    "for i in range(choices.shape[0]):\n",
    "    uc, pc = np.unique(choices[i], return_counts=True)\n",
    "    np.testing.assert_array_equal(uc, choices_[i, :len(uc)])\n",
    "    np.testing.assert_array_equal(np.full(10-len(uc), -1), choices_[i, len(uc):])\n",
    "    np.testing.assert_array_equal(pc, pick_count[i, :len(uc)])\n",
    "    np.testing.assert_array_equal(np.zeros(10-len(uc)), pick_count[i, len(uc):])\n"
   ]
  },
  {
   "cell_type": "markdown",
   "id": "bc317541",
   "metadata": {},
   "source": [
    "## Gotchas\n",
    "\n",
    "When working with multi-dimension outputs, if you don't specify the dimensions ordering\n",
    "explicitly (as done above) then the output dimensions will be in lexicographic order \n",
    "according to the unicode binary representations of the dimension names.  This is similar\n",
    "to alphabetical ordering, except all uppercase letters come before lower case letters. \n"
   ]
  },
  {
   "cell_type": "code",
   "execution_count": null,
   "id": "737bc7c6",
   "metadata": {},
   "outputs": [],
   "source": [
    "tree_unordered = sh.DataTree(\n",
    "    base=base,\n",
    "    person=persons,\n",
    "    landuse=landuse,\n",
    "    hh=households,\n",
    "    odskims=skims_am,\n",
    "    doskims=skims_pm,\n",
    "    relationships=(\n",
    "        \"base.WORKERID @ person.PERID\",\n",
    "        \"base.TAZ @ landuse.TAZ\",\n",
    "        \"person.household_id @ hh.HHID\",\n",
    "        \"hh.TAZ @ odskims.otaz\", \n",
    "        \"base.TAZ @ odskims.dtaz\",\n",
    "        \"base.TAZ @ doskims.otaz\",\n",
    "        \"hh.TAZ @ doskims.dtaz\",\n",
    "    ),\n",
    ")"
   ]
  },
  {
   "cell_type": "code",
   "execution_count": null,
   "id": "e26a7f58",
   "metadata": {
    "tags": [
     "remove_cell"
    ]
   },
   "outputs": [],
   "source": [
    "# TEST tree_unordered attributes\n",
    "assert tree_unordered.dim_order is None\n",
    "assert tree_unordered.shape == (25, 4361)"
   ]
  },
  {
   "cell_type": "code",
   "execution_count": null,
   "id": "16b86578",
   "metadata": {},
   "outputs": [],
   "source": [
    "flow_unordered = tree_unordered.setup_flow(definition)\n",
    "arr_unordered = flow_unordered.load_dataarray()\n",
    "arr_unordered.dims"
   ]
  },
  {
   "cell_type": "code",
   "execution_count": null,
   "id": "4a4fb08e",
   "metadata": {
    "tags": [
     "remove_cell"
    ]
   },
   "outputs": [],
   "source": [
    "# TEST flow_unordered\n",
    "assert arr_unordered.dims == ('TAZ', 'WORKERID', 'expressions')\n",
    "assert arr_unordered.shape == (25, 4361, 4)"
   ]
  }
 ],
 "metadata": {
  "kernelspec": {
   "display_name": "Python 3 (ipykernel)",
   "language": "python",
   "name": "python3"
  },
  "language_info": {
   "codemirror_mode": {
    "name": "ipython",
    "version": 3
   },
   "file_extension": ".py",
   "mimetype": "text/x-python",
   "name": "python",
   "nbconvert_exporter": "python",
   "pygments_lexer": "ipython3",
   "version": "3.9.10"
  },
  "toc": {
   "base_numbering": 1,
   "nav_menu": {},
   "number_sections": false,
   "sideBar": true,
   "skip_h1_title": false,
   "title_cell": "Table of Contents",
   "title_sidebar": "Contents",
   "toc_cell": false,
   "toc_position": {},
   "toc_section_display": true,
   "toc_window_display": true
  }
 },
 "nbformat": 4,
 "nbformat_minor": 5
}
